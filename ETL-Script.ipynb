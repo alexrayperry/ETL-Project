{
 "cells": [
  {
   "cell_type": "code",
   "execution_count": 38,
   "metadata": {},
   "outputs": [
    {
     "ename": "SyntaxError",
     "evalue": "invalid syntax (<ipython-input-38-51b26d7d832d>, line 6)",
     "output_type": "error",
     "traceback": [
      "\u001b[1;36m  File \u001b[1;32m\"<ipython-input-38-51b26d7d832d>\"\u001b[1;36m, line \u001b[1;32m6\u001b[0m\n\u001b[1;33m    rom pprint import pprint\u001b[0m\n\u001b[1;37m             ^\u001b[0m\n\u001b[1;31mSyntaxError\u001b[0m\u001b[1;31m:\u001b[0m invalid syntax\n"
     ]
    }
   ],
   "source": [
    "# Call on Pandas Dependency\n",
    "\n",
    "import pandas as pd\n",
    "import requests\n",
    "import json\n",
    "from pprint import pprint\n",
    "\n",
    "\n"
   ]
  },
  {
   "cell_type": "code",
   "execution_count": null,
   "metadata": {},
   "outputs": [],
   "source": [
    "# Import & read CSV file\n",
    "\n",
    "data1 = 'User1.csv'\n",
    "\n",
    "data2 = 'User2.csv'\n",
    "\n",
    "data3 = 'User3.csv'\n",
    "\n",
    "data4 = 'User4.csv'\n",
    "\n",
    "# Create dataframe based on CSV file\n",
    "\n",
    "user1 = pd.read_csv(data1)\n",
    "\n",
    "user2 = pd.read_csv(data2)\n",
    "\n",
    "user3 = pd.read_csv(data3)\n",
    "\n",
    "user4 = pd.read_csv(data4)\n",
    "\n"
   ]
  },
  {
   "cell_type": "code",
   "execution_count": null,
   "metadata": {},
   "outputs": [],
   "source": [
    "user1_list = user1[\"Title\"].to_list()\n",
    "\n",
    "user2_list = user2[\"Title\"].to_list()\n",
    "\n",
    "user3_list = user3[\"Title\"].to_list()\n",
    "\n",
    "user4_list = user4[\"Title\"].to_list()\n"
   ]
  },
  {
   "cell_type": "code",
   "execution_count": 39,
   "metadata": {},
   "outputs": [
    {
     "data": {
      "text/plain": [
       "7724"
      ]
     },
     "execution_count": 39,
     "metadata": {},
     "output_type": "execute_result"
    }
   ],
   "source": [
    "movie_list = user1_list + user2_list + user3_list + user4_list\n",
    "len(movie_list)"
   ]
  },
  {
   "cell_type": "code",
   "execution_count": 40,
   "metadata": {},
   "outputs": [
    {
     "data": {
      "text/plain": [
       "6699"
      ]
     },
     "execution_count": 40,
     "metadata": {},
     "output_type": "execute_result"
    }
   ],
   "source": [
    "movie_list = list(dict.fromkeys(movie_list))\n",
    "\n",
    "len(movie_list)"
   ]
  },
  {
   "cell_type": "code",
   "execution_count": null,
   "metadata": {},
   "outputs": [],
   "source": [
    "api_key = \"http://www.omdbapi.com/?i=tt3896198&apikey=2411ea41\"\n",
    "\n",
    "url = \"http://www.omdbapi.com/?apikey=\" + api_key + \"&t=\"\n",
    "\n",
    "responses = [];\n",
    "\n",
    "for movie in movie_list:\n",
    "    movie_data = requests.get(url + movie).json()\n",
    "    responses.append(movie_data)\n"
   ]
  },
  {
   "cell_type": "code",
   "execution_count": null,
   "metadata": {},
   "outputs": [],
   "source": [
    "responses[0]"
   ]
  }
 ],
 "metadata": {
  "kernelspec": {
   "display_name": "Python [conda env:anaconda3-PythonData]",
   "language": "python",
   "name": "conda-env-anaconda3-PythonData-py"
  },
  "language_info": {
   "codemirror_mode": {
    "name": "ipython",
    "version": 3
   },
   "file_extension": ".py",
   "mimetype": "text/x-python",
   "name": "python",
   "nbconvert_exporter": "python",
   "pygments_lexer": "ipython3",
   "version": "3.6.10"
  }
 },
 "nbformat": 4,
 "nbformat_minor": 2
}
