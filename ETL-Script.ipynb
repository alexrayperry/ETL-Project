{
 "cells": [
  {
   "cell_type": "code",
   "execution_count": 4,
   "metadata": {},
   "outputs": [],
   "source": [
    "# Call on Pandas Dependency\n",
    "\n",
    "import pandas as pd\n",
    "\n",
    "\n"
   ]
  },
  {
   "cell_type": "code",
   "execution_count": 5,
   "metadata": {},
   "outputs": [],
   "source": [
    "# Import & read CSV file\n",
    "\n",
    "data1 = 'User1.csv'\n",
    "\n",
    "data2 = 'User2.csv'\n",
    "\n",
    "data3 = 'User3.csv'\n",
    "\n",
    "data4 = 'User4.csv'\n",
    "\n",
    "# Create dataframe based on CSV file\n",
    "\n",
    "user1 = pd.read_csv(data1)\n",
    "\n",
    "user2 = pd.read_csv(data2)\n",
    "\n",
    "user3 = pd.read_csv(data3)\n",
    "\n",
    "user4 = pd.read_csv(data4)"
   ]
  }
 ],
 "metadata": {
  "kernelspec": {
   "display_name": "Python [conda env:anaconda3-PythonData]",
   "language": "python",
   "name": "conda-env-anaconda3-PythonData-py"
  },
  "language_info": {
   "codemirror_mode": {
    "name": "ipython",
    "version": 3
   },
   "file_extension": ".py",
   "mimetype": "text/x-python",
   "name": "python",
   "nbconvert_exporter": "python",
   "pygments_lexer": "ipython3",
   "version": "3.6.10"
  }
 },
 "nbformat": 4,
 "nbformat_minor": 2
}
